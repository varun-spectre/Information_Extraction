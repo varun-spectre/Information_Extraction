{
 "cells": [
  {
   "cell_type": "code",
   "execution_count": null,
   "metadata": {},
   "outputs": [],
   "source": [
    "# imports\n",
    "import os\n",
    "import numpy as np\n",
    "import pandas as pd\n",
    "import docx\n",
    "from docx import Document"
   ]
  },
  {
   "cell_type": "code",
   "execution_count": null,
   "metadata": {},
   "outputs": [],
   "source": [
    "# Mostly the the agreement start date will be present in first paragraph we can extract\n",
    "# programatically for those which are not there we shall add manually\n",
    "Data_Folder = \"./Training_data\"\n",
    "agreement_date_dict = {}\n",
    "def extract_entities(Data_Folder):\n",
    "    \"\"\"\n",
    "    Arguments:\n",
    "        Data_Folder - folder containing documents\n",
    "    return:\n",
    "        downloads the results csv to the current folder\n",
    "    \"\"\"\n",
    "    for filename in os.listdir(Data_Folder):\n",
    "        # iterate through the files\n",
    "        if filename.endswith(\".docx\"):\n",
    "            doc = docx.Document(os.path.join(Data_Folder, filename))\n",
    "            for para in doc.paragraphs:\n",
    "                if len(para.text.split())>8:\n",
    "                    agreement_date_dict[filename] = para.text\n",
    "                    print(\"filename: \", filename)\n",
    "                    print(\"text: \", para.text)\n",
    "                    break\n",
    "extract_entities(Data_Folder)"
   ]
  },
  {
   "cell_type": "code",
   "execution_count": null,
   "metadata": {},
   "outputs": [],
   "source": [
    "# adding the missed cases manually\n",
    "agreement_date_dict[\"269135973-Udaya-Rental-Agreement.pdf.docx\"] = \"at Bangalore, by and Between:- wef 1/4/2014\"\n",
    "agreement_date_dict[\"249104436-House-Rental-Agreement.pdf.docx\"] = \"agreement shall commence on 1st July 2014 and continue for one (1) year as leasehold. Thereafter it shall become a month-to-month tenancy. If RESIDENT should move from the premises prior to the expiration of this time period, he shall be liable for all rent due until such time that the Residence is occupied by an OWNER approved paying RESIDENT and/or expiration of said time period, whichever is shorter.\"\n",
    "agreement_date_dict[\"267005869-Rental-Tenant.pdf.docx\"] = \"The tenancy is to begin on 1st JANUARY 2014 and is RENEWAL EVERY YEAR . Minimum contract period is 1 Year .\"\n",
    "agreement_date_dict[\"269137702-Rental-Agreement.pdf.docx\"] = \"at Bangalore, by and Between:- wef 1/4/2015\"\n",
    "agreement_date_dict[\"251798216-Rental-Agreement-Format1.pdf.docx\"] = \"Commencing(starting) date of agreement\t: 01-04-2014\"\n",
    "agreement_date_dict[\"81655723-Rental-Agreement.pdf.docx\"] = \"This agreement shall run from 1-8-2011 to 1-8-2012.\"\n",
    "agreement_date_dict[\"288024755-Rental-Agreement-1.pdf.docx\"] = \"Rental agreement was executed on Two thousand fourteen April twenty first (21/04/14), Between S T Nagaveni (owner) C/o Narayan H V Resident of Vanasuma nilaya Tumkur District SS puram , 8th Cross ,7th Main and Mr Madhu H N residing at 8th cross 7th main Sspuram Tumkur.\"\n",
    "\n",
    "# deleting the keys which does not contain agreement start date\n",
    "del agreement_date_dict[\"294331674-Rental-Agreement.pdf.docx\"]\n",
    "del agreement_date_dict[\"116950326-December-2012-Rental-Agreement.pdf.docx\"]"
   ]
  },
  {
   "cell_type": "code",
   "execution_count": null,
   "metadata": {},
   "outputs": [],
   "source": [
    "filenames = []\n",
    "texts = []\n",
    "for key,value in agreement_date_dict.items():\n",
    "    filenames.append(key)\n",
    "    texts.append(value)\n",
    "    print(\"key: \",key)\n",
    "    print(\"value: \", value)\n",
    "    print(\"*****\")"
   ]
  },
  {
   "cell_type": "code",
   "execution_count": null,
   "metadata": {},
   "outputs": [],
   "source": [
    "# putting all the labels from the above keys in a list\n",
    "labels = [\"27TH Day of MARCH 2016\", \"1st day of May 2016\", \"23 rd day of May Two Thousand Eleven\",\n",
    "         \"1st day of April,2009\", \"27th day January 2010\", \"fifth day of December 2008\",\n",
    "         \"1stDAY OF SEPTEMBER\", \"10th- mav 2009\", \"wef 1/4/2014\",\n",
    "         \"first day of September 2011\", \"20th day of May 2007\", \"1st day April two thousand eleven\",\n",
    "         \"14th day of July 2010\", \"1st July 2014\", \"21st OF MARCH 2010\", \"11 day of December, 2008\",\n",
    "         \"5th day of April, 2012\", \"1st day of September 2011\", \"1st May 2005\",\n",
    "         \"March 22nd day 2013\", \"1st JANUARY 2014\", \"wef 1/4/2015\", \"01-04-2014\",\n",
    "         \"06th day of March 2013\", \"28th day of March, 2012\", \"1st day of February 2008\",\n",
    "         '19\" day of August, 2010', \"5th day of JUNE 2009\", \"22.01.2013\",\n",
    "         \"15th day of February 2012\", \"lstth of May 2010\", \"19th day of August 2013\",\n",
    "         \"20th day of May 2007\", \"Jan 10, 2011\", \"20 April 2011\", \".?.??& day of\t\t2010\",\n",
    "         \"15 SEPTEMBER 2012\", \"19th day of July, 2011\", \"7/2/08\", \"1-8-2011\", \"Two thousand fourteen April twenty first\"]"
   ]
  },
  {
   "cell_type": "code",
   "execution_count": null,
   "metadata": {},
   "outputs": [],
   "source": [
    "# adding indexes\n",
    "indexes = []\n",
    "for i in range(len(filenames)):\n",
    "    s = label_indexes[i]\n",
    "    for j in range(len(texts[i])): \n",
    "        if (texts[i][j:j + len(s)] == s):\n",
    "            indexes.append({\"entities\": [(j, j+len(s), \"Agreement_start_date\")]})\n",
    "            train_data = []\n",
    "            \n",
    "for i in range(len(texts)):\n",
    "    train_data.append((texts[i],indexes[i]))\n",
    "    \n",
    "# saving the training data\n",
    "output_file = \"TRAIN_DATA\"\n",
    "with open(output_file, 'wb') as fp:\n",
    "    pickle.dump(train_data, fp)"
   ]
  },
  {
   "cell_type": "code",
   "execution_count": null,
   "metadata": {},
   "outputs": [],
   "source": []
  }
 ],
 "metadata": {
  "kernelspec": {
   "display_name": "Python 3",
   "language": "python",
   "name": "python3"
  },
  "language_info": {
   "codemirror_mode": {
    "name": "ipython",
    "version": 3
   },
   "file_extension": ".py",
   "mimetype": "text/x-python",
   "name": "python",
   "nbconvert_exporter": "python",
   "pygments_lexer": "ipython3",
   "version": "3.7.3"
  }
 },
 "nbformat": 4,
 "nbformat_minor": 2
}
